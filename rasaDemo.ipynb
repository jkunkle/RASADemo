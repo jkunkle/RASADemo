{
 "cells": [
  {
   "cell_type": "markdown",
   "id": "b8a7fec0",
   "metadata": {},
   "source": [
    "# NLU Demo using RASA\n",
    "## Goal -- Determine script content starting from search term\n",
    "The idea is to analzye the intro of a video script and determine what creators say and when.  In order to completely analyze the text, we'll make a sliding window and run it across the script.\n",
    "## Method \n",
    " 1. Retrieve video scripts using simple youtube search\n",
    " 2. Re-window this data so that each subsequent sequence of words are categorized\n",
    " 3. Pass the texts to RASA to determine the language content (see data/nlu.yml for training data)\n",
    " 4. Make some analysis and figures\n",
    " \n",
    "## RASA\n",
    "RASA encapsulates a deep neural network that is trained to return the 'intent' of the input phrase.  The allowed intents must be trained and can be found in data/nlu.yml.  The output is a score from 0-1 for each possible intent, with all results summing to 1. \n",
    "\n",
    "## Notes\n",
    "A few utility functions are used and can be found in youtube.py"
   ]
  },
  {
   "cell_type": "code",
   "execution_count": 1,
   "id": "877ef029",
   "metadata": {},
   "outputs": [],
   "source": [
    "import pandas as pd\n",
    "import json\n",
    "import requests\n",
    "import cycler\n",
    "import matplotlib.pyplot as plt\n",
    "from matplotlib.lines import Line2D\n",
    "\n",
    "# utility functions for youtube\n",
    "import youtube\n"
   ]
  },
  {
   "cell_type": "markdown",
   "id": "23655305",
   "metadata": {},
   "source": [
    "## Global variables\n",
    "Change SEARCH_STRING to find different videos"
   ]
  },
  {
   "cell_type": "code",
   "execution_count": 2,
   "id": "29124ddf",
   "metadata": {},
   "outputs": [],
   "source": [
    "SEARCH_STRING = 'how to improve your coding skills' # this is the video search (easier than finding and pasting the URL)\n",
    "RASA_API = 'http://localhost:5005/model/parse' # Location of RASA API (port mapped in docker-compose.yml)\n",
    "WINDOW_SIZE = 8 # Number of words in a window\n",
    "TIME_CUTOFF = 30 # only analyze scripts up to this time (seconds)"
   ]
  },
  {
   "cell_type": "markdown",
   "id": "1a63ec5a",
   "metadata": {},
   "source": [
    "## Step 1 - Get videos from youtube search and get their captions.  May take a few seconds\n",
    "We will only use the first video in the list for this demo"
   ]
  },
  {
   "cell_type": "code",
   "execution_count": 3,
   "id": "d49be037",
   "metadata": {},
   "outputs": [],
   "source": [
    "search_results = youtube.search_for_videos(SEARCH_STRING)\n",
    "videos = [v['id'] for v in search_results['videos']]\n",
    "\n",
    "res = youtube.retrieve_captions(videos)\n",
    "\n",
    "# we will use the first entry for this demo \n",
    "video = list(res.keys())[0]\n",
    "captions = res[video]\n",
    "\n",
    "# create a dataframe\n",
    "df = pd.DataFrame(captions)\n",
    "\n",
    "# ensure numerical values\n",
    "df['start'] = df['start'].astype(float)\n",
    "df['duration'] = df['duration'].astype(float)"
   ]
  },
  {
   "cell_type": "markdown",
   "id": "54cdf118",
   "metadata": {},
   "source": [
    "## Break apart script sections into individual words\n",
    "Scripts come with a variable number of words per line and we want to control this.  Start by breaking it down word-by-word.  Interpolate the start and end time for future use."
   ]
  },
  {
   "cell_type": "code",
   "execution_count": 4,
   "id": "4c99f158",
   "metadata": {},
   "outputs": [],
   "source": [
    "def dewindow_and_interpolate_times(row):\n",
    "    \"\"\" Interpolate times for each word in texts\"\"\"\n",
    "\n",
    "    #  split the text into a list\n",
    "    words = row.text.split(' ')\n",
    "\n",
    "    # determine the average interval\n",
    "    # between texts \n",
    "    # this is not completely accurate\n",
    "    # but doens't matter on a word-by-word level\n",
    "    interval = row.duration/len(words)\n",
    "\n",
    "    # generate new starts and ends based on the interval and number of words\n",
    "    starts = [row.start + x*interval for x in range(0, len(words))]\n",
    "    ends = [s + interval for s in starts]\n",
    "\n",
    "    row['start'] = starts\n",
    "    row['end'] = ends\n",
    "    row['text'] = words\n",
    "\n",
    "    return row\n",
    "\n",
    "df = df.apply(dewindow_and_interpolate_times, axis=1)\n",
    "\n",
    "# select only the needed columns\n",
    "df = df[['start', 'end', 'text']]\n",
    "# now every entry in the dataframe is an array\n",
    "# with each row having the same length arrays across\n",
    "# all columns.\n",
    "# explode them into rows\n",
    "# I always wanted to explode pandas dataframes\n",
    "df = df.apply(pd.Series.explode).reset_index()"
   ]
  },
  {
   "cell_type": "markdown",
   "id": "ddd3e175",
   "metadata": {},
   "source": [
    "## inspect the word-by-word dataframe"
   ]
  },
  {
   "cell_type": "code",
   "execution_count": 5,
   "id": "688ca908",
   "metadata": {
    "scrolled": true
   },
   "outputs": [
    {
     "name": "stdout",
     "output_type": "stream",
     "text": [
      "      index       start         end    text\n",
      "0         0        1.02    1.561429       -\n",
      "1         0    1.561429    2.102857     How\n",
      "2         0    2.102857    2.644286  should\n",
      "3         0    2.644286    3.185714     you\n",
      "4         0    3.185714    3.727143  invest\n",
      "...     ...         ...         ...     ...\n",
      "1989    276  712.169167  712.543333     was\n",
      "1990    276  712.543333    712.9175  really\n",
      "1991    276    712.9175  713.291667   solid\n",
      "1992    276  713.291667  713.665833     and\n",
      "1993    276  713.665833      714.04   yeah.\n",
      "\n",
      "[1994 rows x 4 columns]\n"
     ]
    }
   ],
   "source": [
    "print (df)"
   ]
  },
  {
   "cell_type": "markdown",
   "id": "7e01cc4f",
   "metadata": {},
   "source": [
    "### Filter to look at the beginning of the script\n",
    "This will avoid analyzing hours-long vidoes and helps visualization"
   ]
  },
  {
   "cell_type": "code",
   "execution_count": 6,
   "id": "f1f243db",
   "metadata": {},
   "outputs": [],
   "source": [
    "df = df[df.start <= TIME_CUTOFF]"
   ]
  },
  {
   "cell_type": "markdown",
   "id": "a805493b",
   "metadata": {},
   "source": [
    "## Step-2 Windowing\n",
    "Now do some data manipulation to add new windows based on the window size\n",
    "Since the same text will contribute to multiple windows, we will do a cross join\n",
    "### Note \n",
    "the cross join is a convenient work-around for pandas dataframes not natively supporting joins on inequalities.  This method does not scale to very large sets, but is more elegant for this demo"
   ]
  },
  {
   "cell_type": "code",
   "execution_count": 7,
   "id": "99e1c5c8",
   "metadata": {},
   "outputs": [],
   "source": [
    "# we want a new window at every word\n",
    "df['window_start'] = df.index\n",
    "df['window_end'] = df['window_start'] + WINDOW_SIZE\n",
    "# do not allow the end of the window to exceed the number of rows\n",
    "nrows = df.shape[0]\n",
    "df.loc[df.window_end >= nrows, 'window_end'] = nrows - 1"
   ]
  },
  {
   "cell_type": "code",
   "execution_count": 8,
   "id": "790e8e8c",
   "metadata": {},
   "outputs": [],
   "source": [
    "# make a dataframe from the list of window numbers\n",
    "_window_number = list(range(0, nrows))\n",
    "window_df = pd.DataFrame(_window_number, columns=['window_number'])"
   ]
  },
  {
   "cell_type": "code",
   "execution_count": 9,
   "id": "dbf99769",
   "metadata": {},
   "outputs": [],
   "source": [
    "# Add a dummy index to cross join\n",
    "window_df['dummy'] = 1\n",
    "df['dummy'] = 1\n",
    "df_cross = pd.merge(window_df, df, on='dummy')\n",
    "# keep only the rows we want\n",
    "df_cross = df_cross[((df_cross.window_number >= df_cross.window_start) & (df_cross.window_number < df_cross.window_end))]"
   ]
  },
  {
   "cell_type": "markdown",
   "id": "54d3485b",
   "metadata": {},
   "source": [
    "## Aggregate on windows"
   ]
  },
  {
   "cell_type": "code",
   "execution_count": 10,
   "id": "1757d232",
   "metadata": {},
   "outputs": [
    {
     "name": "stdout",
     "output_type": "stream",
     "text": [
      "                   start        end  \\\n",
      "window_number                         \n",
      "0               1.020000   1.561429   \n",
      "1               1.020000   2.102857   \n",
      "2               1.020000   2.644286   \n",
      "3               1.020000   3.185714   \n",
      "4               1.020000   3.727143   \n",
      "...                  ...        ...   \n",
      "62             25.186667  27.891111   \n",
      "63             25.465556  28.406667   \n",
      "64             25.744444  28.922222   \n",
      "65             26.023333  29.437778   \n",
      "66             26.302222  29.953333   \n",
      "\n",
      "                                                            text  \n",
      "window_number                                                     \n",
      "0                                                              -  \n",
      "1                                                          - How  \n",
      "2                                                   - How should  \n",
      "3                                               - How should you  \n",
      "4                                        - How should you invest  \n",
      "...                                                          ...  \n",
      "62               done and what I&#39;ve invested in and actually  \n",
      "63             and what I&#39;ve invested in and actually spe...  \n",
      "64             what I&#39;ve invested in and actually specifi...  \n",
      "65             I&#39;ve invested in and actually specifically...  \n",
      "66             invested in and actually specifically how I in...  \n",
      "\n",
      "[67 rows x 3 columns]\n"
     ]
    }
   ],
   "source": [
    "windowed = df_cross.groupby('window_number').agg({'start': min, 'end' : max, 'text' : ' '.join})\n",
    "#inspect the result\n",
    "print(windowed)"
   ]
  },
  {
   "cell_type": "markdown",
   "id": "102e2320",
   "metadata": {},
   "source": [
    "## Step 3 - Determine scores for each set of texts\n",
    "On a row-by-row basis, query the rasa API for the scores and append them to the dataset"
   ]
  },
  {
   "cell_type": "code",
   "execution_count": 11,
   "id": "793f9d75",
   "metadata": {},
   "outputs": [
    {
     "name": "stdout",
     "output_type": "stream",
     "text": [
      "    window_number     authority        end       goodbye         greet  \\\n",
      "0               0  1.534692e-04   1.561429  5.408623e-03  5.535322e-01   \n",
      "1               1  3.599139e-08   2.102857  9.555018e-08  6.182706e-08   \n",
      "2               2  7.114978e-08   2.644286  1.185964e-07  3.019886e-08   \n",
      "3               3  1.047757e-07   3.185714  1.523116e-06  1.140418e-07   \n",
      "4               4  1.492465e-07   3.727143  8.321835e-07  1.611839e-07   \n",
      "..            ...           ...        ...           ...           ...   \n",
      "62             62  9.182854e-01  27.891111  2.994016e-03  2.385707e-04   \n",
      "63             63  9.749072e-01  28.406667  1.530911e-03  5.195295e-04   \n",
      "64             64  1.083291e-02  28.922222  2.255666e-04  5.138795e-05   \n",
      "65             65  4.326954e-01  29.437778  1.619242e-03  3.827681e-04   \n",
      "66             66  1.798607e-02  29.953333  2.829834e-04  1.091404e-04   \n",
      "\n",
      "       introduce       sponsor      start     subscribe     summarize  \\\n",
      "0   4.209344e-01  5.452090e-04   1.020000  6.532253e-04  1.706785e-02   \n",
      "1   1.228292e-06  3.875969e-07   1.020000  5.784545e-08  5.096145e-08   \n",
      "2   3.123031e-07  8.872311e-07   1.020000  1.079381e-07  4.137389e-08   \n",
      "3   7.115557e-07  1.964209e-06   1.020000  1.781528e-07  8.157244e-08   \n",
      "4   6.635138e-07  1.186477e-06   1.020000  2.841470e-07  1.716445e-07   \n",
      "..           ...           ...        ...           ...           ...   \n",
      "62  1.425789e-03  1.067351e-03  25.186667  5.713750e-04  2.742071e-03   \n",
      "63  1.449832e-03  1.442805e-03  25.465556  1.817217e-03  1.000917e-02   \n",
      "64  2.892203e-04  4.757094e-04  25.744444  5.691373e-04  5.839788e-04   \n",
      "65  4.083345e-03  4.858342e-03  26.023333  2.511675e-03  1.183088e-02   \n",
      "66  8.033568e-04  9.206355e-04  26.302222  5.998052e-04  2.077515e-03   \n",
      "\n",
      "       tease                                               text  \n",
      "0   0.001705                                                  -  \n",
      "1   0.999998                                              - How  \n",
      "2   0.999998                                       - How should  \n",
      "3   0.999995                                   - How should you  \n",
      "4   0.999997                            - How should you invest  \n",
      "..       ...                                                ...  \n",
      "62  0.072675    done and what I&#39;ve invested in and actually  \n",
      "63  0.008323  and what I&#39;ve invested in and actually spe...  \n",
      "64  0.986972  what I&#39;ve invested in and actually specifi...  \n",
      "65  0.542018  I&#39;ve invested in and actually specifically...  \n",
      "66  0.977220  invested in and actually specifically how I in...  \n",
      "\n",
      "[67 rows x 12 columns]\n"
     ]
    }
   ],
   "source": [
    "def get_scores(row):\n",
    "    \n",
    "    # format the query\n",
    "    data = {'text' : row['text']}\n",
    "    res = requests.post(RASA_API, data = json.dumps(data)).json()\n",
    "\n",
    "    # get the results from all intents\n",
    "    for intent in res['intent_ranking']:\n",
    "        name = intent['name']\n",
    "        # ignore this default intent\n",
    "        if name == 'nlu_fallback':\n",
    "            continue\n",
    "        # get the numerical confidence score\n",
    "        conf = intent['confidence']\n",
    "        row[name] = conf \n",
    "        \n",
    "    return row\n",
    "\n",
    "scored = windowed.apply(get_scores, axis=1)\n",
    "#get a list of added columns from the results (so that changes to the training intents are automatically picked up)\n",
    "score_columns = list(set(scored) - set(windowed.columns)) \n",
    "scored.reset_index(inplace=True)\n",
    "# inspect the results\n",
    "print (scored)"
   ]
  },
  {
   "cell_type": "markdown",
   "id": "6a00f3aa",
   "metadata": {},
   "source": [
    "## Step 4 - some basic results"
   ]
  },
  {
   "cell_type": "markdown",
   "id": "030e567a",
   "metadata": {},
   "source": [
    "### plot all scores as a function of time"
   ]
  },
  {
   "cell_type": "code",
   "execution_count": 12,
   "id": "edf3fb36",
   "metadata": {},
   "outputs": [
    {
     "data": {
      "text/plain": [
       "<AxesSubplot:xlabel='start'>"
      ]
     },
     "execution_count": 12,
     "metadata": {},
     "output_type": "execute_result"
    },
    {
     "data": {
      "image/png": "[encoded data removed]",
      "text/plain": [
       "<Figure size 432x288 with 1 Axes>"
      ]
     },
     "metadata": {
      "needs_background": "light"
     },
     "output_type": "display_data"
    }
   ],
   "source": [
    "scored_plt = scored.set_index('start')\n",
    "scored_plt.drop(columns=['window_number', 'end'], inplace=True)\n",
    "scored_plt.plot()"
   ]
  },
  {
   "cell_type": "markdown",
   "id": "6b74b9bc",
   "metadata": {},
   "source": [
    "### Determine the intent that gives the maximum score as a function of time\n",
    "We want to get the maximum value and the intent (argmax)"
   ]
  },
  {
   "cell_type": "code",
   "execution_count": 13,
   "id": "f70c6488",
   "metadata": {
    "scrolled": true
   },
   "outputs": [
    {
     "name": "stdout",
     "output_type": "stream",
     "text": [
      "        start        end       type     score\n",
      "0    1.020000   1.561429      greet  0.553532\n",
      "1    1.020000   2.102857      tease  0.999998\n",
      "2    1.020000   2.644286      tease  0.999998\n",
      "3    1.020000   3.185714      tease  0.999995\n",
      "4    1.020000   3.727143      tease  0.999997\n",
      "..        ...        ...        ...       ...\n",
      "62  25.186667  27.891111  authority  0.918285\n",
      "63  25.465556  28.406667  authority  0.974907\n",
      "64  25.744444  28.922222      tease  0.986972\n",
      "65  26.023333  29.437778      tease  0.542018\n",
      "66  26.302222  29.953333      tease  0.977220\n",
      "\n",
      "[67 rows x 4 columns]\n"
     ]
    }
   ],
   "source": [
    "scored_tomax = scored.set_index(['start', 'end'])\n",
    "\n",
    "# Get the column name that corresponds to the max\n",
    "df_argmax = scored_tomax[score_columns].idxmax(axis=1)\n",
    "# Get the max values\n",
    "df_max = scored_tomax[score_columns].max(axis=1)\n",
    "\n",
    "# combine into a single dataframe\n",
    "df_comb = pd.concat([df_argmax, df_max], axis=1)\n",
    "df_comb.columns=['type', 'score']\n",
    "\n",
    "df_comb.reset_index(inplace=True)\n",
    "\n",
    "#inspect the results\n",
    "print (df_comb)\n"
   ]
  },
  {
   "cell_type": "markdown",
   "id": "31cb57d1",
   "metadata": {},
   "source": [
    "### Plot the results\n",
    "First do some work to get the proper framing and colors, then use fill_between to make the figure"
   ]
  },
  {
   "cell_type": "code",
   "execution_count": 14,
   "id": "e788cecf",
   "metadata": {},
   "outputs": [
    {
     "data": {
      "image/png": "[encoded data removed]",
      "text/plain": [
       "<Figure size 432x288 with 1 Axes>"
      ]
     },
     "metadata": {
      "needs_background": "light"
     },
     "output_type": "display_data"
    }
   ],
   "source": [
    "# Use a shift to get a non-overlapping interval\n",
    "df_comb['prev_end'] = df_comb['end'].shift(1)\n",
    "df_comb.loc[pd.isnull(df_comb.prev_end), 'prev_end'] = min(df_comb['start'])\n",
    "\n",
    "# get a color cycler and determine the color for each type.\n",
    "# this is mainly for convenience so that we cannot exceed the \n",
    "# size of our color list, but it can result in duplicate colors\n",
    "color_cycle = cycler.cycler(color=['red', 'green', 'blue', 'orange', 'magenta', 'cyan', 'lightgreen'])\n",
    "all_types = list(set(df_comb['type']))\n",
    "type_colors = {tp : col['color'] for tp, col in zip(all_types, color_cycle)}\n",
    "\n",
    "\n",
    "_, ax = plt.subplots()\n",
    "\n",
    "# Fill the figure for each row up to the score value\n",
    "for ir, row in df_comb.iterrows():\n",
    "    tp = row['type']\n",
    "    ax.fill_between([row['prev_end'], row['end']], 0, row['score'], facecolor=type_colors[tp], label=tp)\n",
    "\n",
    "plt.xlabel('Time [s]')\n",
    "plt.ylabel('Max score')\n",
    "plt.title('Maximum score by dialogue type')\n",
    "\n",
    "# since its a non-standard plot, we need to create \n",
    "# the legend manually\n",
    "custom_lines = []\n",
    "for tp, col in type_colors.items():\n",
    "    custom_lines.append(Line2D([0], [0], color=col, lw=6, alpha=0.6))\n",
    "ax.legend(custom_lines, type_colors.keys())\n",
    "plt.show()\n"
   ]
  }
 ],
 "metadata": {
  "kernelspec": {
   "display_name": "Python 3",
   "language": "python",
   "name": "python3"
  },
  "language_info": {
   "codemirror_mode": {
    "name": "ipython",
    "version": 3
   },
   "file_extension": ".py",
   "mimetype": "text/x-python",
   "name": "python",
   "nbconvert_exporter": "python",
   "pygments_lexer": "ipython3",
   "version": "3.8.0"
  }
 },
 "nbformat": 4,
 "nbformat_minor": 5
}
