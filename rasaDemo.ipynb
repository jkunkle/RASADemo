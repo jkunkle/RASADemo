{
 "cells": [
  {
   "cell_type": "markdown",
   "id": "b8a7fec0",
   "metadata": {},
   "source": [
    "# NLU Demo using RASA\n",
    "## Goal -- Determine script content starting from search term\n",
    "The idea is to analzye the intro of a video script and determine what creators say and when.  In order to completely analyze the text, we'll make a sliding window and run it across the script.\n",
    "## Method \n",
    " 1. Retrieve video scripts using simple youtube search\n",
    " 2. Re-window this data so that each subsequent sequence of words are categorized\n",
    " 3. Pass the texts to RASA to determine the language content (see data/nlu.yml for training data)\n",
    " 4. Make some analysis and figures\n",
    " \n",
    "## RASA\n",
    "RASA encapsulates a deep neural network that is trained to return the 'intent' of the input phrase.  The allowed intents must be trained and can be found in data/nlu.yml.  The output is a score from 0-1 for each possible intent, with all results summing to 1. \n",
    "\n",
    "## Notes\n",
    "A few utility functions are used and can be found in youtube.py"
   ]
  },
  {
   "cell_type": "code",
   "execution_count": 1,
   "id": "877ef029",
   "metadata": {},
   "outputs": [],
   "source": [
    "import pandas as pd\n",
    "import json\n",
    "import requests\n",
    "import cycler\n",
    "import matplotlib.pyplot as plt\n",
    "from matplotlib.lines import Line2D\n",
    "\n",
    "# utility functions for youtube\n",
    "import youtube\n"
   ]
  },
  {
   "cell_type": "markdown",
   "id": "23655305",
   "metadata": {},
   "source": [
    "## Global variables\n",
    "Change SEARCH_STRING to find different videos"
   ]
  },
  {
   "cell_type": "code",
   "execution_count": 2,
   "id": "29124ddf",
   "metadata": {},
   "outputs": [],
   "source": [
    "SEARCH_STRING = 'how to improve your coding skills' # this is the video search (easier than finding and pasting the URL)\n",
    "RASA_API = 'http://localhost:5005/model/parse' # Location of RASA API (port mapped in docker-compose.yml)\n",
    "WINDOW_SIZE = 8 # Number of words in a window\n",
    "TIME_CUTOFF = 30 # only analyze scripts up to this time (seconds)"
   ]
  },
  {
   "cell_type": "markdown",
   "id": "1a63ec5a",
   "metadata": {},
   "source": [
    "## Step 1 - Get videos from youtube search and get their captions.  May take a few seconds\n",
    "We will only use the first video in the list for this demo"
   ]
  },
  {
   "cell_type": "code",
   "execution_count": 3,
   "id": "d49be037",
   "metadata": {},
   "outputs": [],
   "source": [
    "search_results = youtube.search_for_videos(SEARCH_STRING)\n",
    "videos = [v['id'] for v in search_results['videos']]\n",
    "\n",
    "res = youtube.retrieve_captions(videos)\n",
    "\n",
    "# we will use the first entry for this demo \n",
    "video = list(res.keys())[0]\n",
    "captions = res[video]\n",
    "\n",
    "# create a dataframe\n",
    "df = pd.DataFrame(captions)\n",
    "\n",
    "# ensure numerical values\n",
    "df['start'] = df['start'].astype(float)\n",
    "df['duration'] = df['duration'].astype(float)"
   ]
  },
  {
   "cell_type": "markdown",
   "id": "54cdf118",
   "metadata": {},
   "source": [
    "## Break apart script sections into individual words\n",
    "Scripts come with a variable number of words per line and we want to control this.  Start by breaking it down word-by-word.  Interpolate the start and end time for future use."
   ]
  },
  {
   "cell_type": "code",
   "execution_count": 4,
   "id": "4c99f158",
   "metadata": {},
   "outputs": [],
   "source": [
    "def dewindow_and_interpolate_times(row):\n",
    "    \"\"\" Interpolate times for each word in texts\"\"\"\n",
    "\n",
    "    #  split the text into a list\n",
    "    words = row.text.split(' ')\n",
    "\n",
    "    # determine the average interval\n",
    "    # between texts \n",
    "    # this is not completely accurate\n",
    "    # but doens't matter on a word-by-word level\n",
    "    interval = row.duration/len(words)\n",
    "\n",
    "    # generate new starts and ends based on the interval and number of words\n",
    "    starts = [row.start + x*interval for x in range(0, len(words))]\n",
    "    ends = [s + interval for s in starts]\n",
    "\n",
    "    row['start'] = starts\n",
    "    row['end'] = ends\n",
    "    row['text'] = words\n",
    "\n",
    "    return row\n",
    "\n",
    "df = df.apply(dewindow_and_interpolate_times, axis=1)\n",
    "\n",
    "# select only the needed columns\n",
    "df = df[['start', 'end', 'text']]\n",
    "# now every entry in the dataframe is an array\n",
    "# with each row having the same length arrays across\n",
    "# all columns.\n",
    "# explode them into rows\n",
    "# I always wanted to explode pandas dataframes\n",
    "df = df.apply(pd.Series.explode).reset_index()"
   ]
  },
  {
   "cell_type": "markdown",
   "id": "ddd3e175",
   "metadata": {},
   "source": [
    "## inspect the word-by-word dataframe"
   ]
  },
  {
   "cell_type": "code",
   "execution_count": 5,
   "id": "688ca908",
   "metadata": {
    "scrolled": true
   },
   "outputs": [
    {
     "name": "stdout",
     "output_type": "stream",
     "text": [
      "      index     start       end         text\n",
      "0         0      0.09  0.255714            -\n",
      "1         0  0.255714  0.421429           In\n",
      "2         0  0.421429  0.587143  today&#39;s\n",
      "3         0  0.587143  0.752857       video,\n",
      "4         0  0.752857  0.918571            I\n",
      "...     ...       ...       ...          ...\n",
      "1403    159    393.87  394.1426          and\n",
      "1404    159  394.1426  394.4152     I&#39;ll\n",
      "1405    159  394.4152  394.6878          see\n",
      "1406    159  394.6878  394.9604          you\n",
      "1407    159  394.9604   395.233        soon.\n",
      "\n",
      "[1408 rows x 4 columns]\n"
     ]
    }
   ],
   "source": [
    "print (df)"
   ]
  },
  {
   "cell_type": "markdown",
   "id": "7e01cc4f",
   "metadata": {},
   "source": [
    "### Filter to look at the beginning of the script\n",
    "This will avoid analyzing hours-long vidoes and helps visualization"
   ]
  },
  {
   "cell_type": "code",
   "execution_count": 6,
   "id": "f1f243db",
   "metadata": {},
   "outputs": [],
   "source": [
    "df = df[df.start <= TIME_CUTOFF]"
   ]
  },
  {
   "cell_type": "markdown",
   "id": "a805493b",
   "metadata": {},
   "source": [
    "## Step-2 Windowing\n",
    "Now do some data manipulation to add new windows based on the window size\n",
    "Since the same text will contribute to multiple windows, we will do a cross join\n",
    "### Note \n",
    "the cross join is a convenient work-around for pandas dataframes not natively supporting joins on inequalities.  This method does not scale to very large sets, but is more elegant for this demo"
   ]
  },
  {
   "cell_type": "code",
   "execution_count": 7,
   "id": "99e1c5c8",
   "metadata": {},
   "outputs": [],
   "source": [
    "# we want a new window at every word\n",
    "df['window_start'] = df.index\n",
    "df['window_end'] = df['window_start'] + WINDOW_SIZE\n",
    "# do not allow the end of the window to exceed the number of rows\n",
    "nrows = df.shape[0]\n",
    "df.loc[df.window_end >= nrows, 'window_end'] = nrows - 1"
   ]
  },
  {
   "cell_type": "code",
   "execution_count": 8,
   "id": "790e8e8c",
   "metadata": {},
   "outputs": [],
   "source": [
    "# make a dataframe from the list of window numbers\n",
    "_window_number = list(range(0, nrows))\n",
    "window_df = pd.DataFrame(_window_number, columns=['window_number'])"
   ]
  },
  {
   "cell_type": "code",
   "execution_count": 9,
   "id": "dbf99769",
   "metadata": {},
   "outputs": [],
   "source": [
    "# Add a dummy index to cross join\n",
    "window_df['dummy'] = 1\n",
    "df['dummy'] = 1\n",
    "df_cross = pd.merge(window_df, df, on='dummy')\n",
    "# keep only the rows we want\n",
    "df_cross = df_cross[((df_cross.window_number >= df_cross.window_start) & (df_cross.window_number < df_cross.window_end))]"
   ]
  },
  {
   "cell_type": "markdown",
   "id": "54d3485b",
   "metadata": {},
   "source": [
    "## Aggregate on windows"
   ]
  },
  {
   "cell_type": "code",
   "execution_count": 10,
   "id": "1757d232",
   "metadata": {},
   "outputs": [
    {
     "name": "stdout",
     "output_type": "stream",
     "text": [
      "                   start        end  \\\n",
      "window_number                         \n",
      "0               0.090000   0.255714   \n",
      "1               0.090000   0.421429   \n",
      "2               0.090000   0.587143   \n",
      "3               0.090000   0.752857   \n",
      "4               0.090000   0.918571   \n",
      "...                  ...        ...   \n",
      "78             26.922000  28.890000   \n",
      "79             27.191000  29.128333   \n",
      "80             27.460000  29.366667   \n",
      "81             27.698333  29.605000   \n",
      "82             27.936667  29.843333   \n",
      "\n",
      "                                                       text  \n",
      "window_number                                                \n",
      "0                                                         -  \n",
      "1                                                      - In  \n",
      "2                                          - In today&#39;s  \n",
      "3                                   - In today&#39;s video,  \n",
      "4                                 - In today&#39;s video, I  \n",
      "...                                                     ...  \n",
      "78             work on?&quot; Now there&#39;s a lot of ways  \n",
      "79             on?&quot; Now there&#39;s a lot of ways that  \n",
      "80                   Now there&#39;s a lot of ways that you  \n",
      "81                   there&#39;s a lot of ways that you can  \n",
      "82                      a lot of ways that you can actually  \n",
      "\n",
      "[83 rows x 3 columns]\n"
     ]
    }
   ],
   "source": [
    "windowed = df_cross.groupby('window_number').agg({'start': min, 'end' : max, 'text' : ' '.join})\n",
    "#inspect the result\n",
    "print(windowed)"
   ]
  },
  {
   "cell_type": "markdown",
   "id": "102e2320",
   "metadata": {},
   "source": [
    "## Step 3 - Determine scores for each set of texts\n",
    "On a row-by-row basis, query the rasa API for the scores and append them to the dataset"
   ]
  },
  {
   "cell_type": "code",
   "execution_count": 11,
   "id": "793f9d75",
   "metadata": {},
   "outputs": [
    {
     "name": "stdout",
     "output_type": "stream",
     "text": [
      "    window_number     authority        end       goodbye         greet  \\\n",
      "0               0  1.534692e-04   0.255714  5.408623e-03  5.535322e-01   \n",
      "1               1  2.445087e-03   0.421429  7.245662e-04  2.065226e-03   \n",
      "2               2  7.614135e-07   0.587143  8.395270e-07  6.124571e-08   \n",
      "3               3  1.581082e-07   0.752857  2.147282e-07  2.001535e-08   \n",
      "4               4  9.630786e-07   0.918571  2.488144e-07  3.823801e-08   \n",
      "..            ...           ...        ...           ...           ...   \n",
      "78             78  4.749263e-02  28.890000  3.195477e-04  1.068140e-01   \n",
      "79             79  2.872732e-03  29.128333  9.366404e-05  1.269734e-02   \n",
      "80             80  2.220475e-02  29.366667  5.517132e-03  2.428630e-01   \n",
      "81             81  1.532782e-01  29.605000  6.661428e-03  6.363582e-01   \n",
      "82             82  1.151012e-03  29.843333  3.689452e-04  1.787706e-04   \n",
      "\n",
      "    introduce   sponsor      start     subscribe     summarize     tease  \\\n",
      "0    0.420934  0.000545   0.090000  6.532253e-04  1.706785e-02  0.001705   \n",
      "1    0.080273  0.000563   0.090000  5.014106e-04  1.228181e-01  0.790609   \n",
      "2    0.000007  0.000008   0.090000  1.113453e-06  1.749860e-06  0.999981   \n",
      "3    0.000001  0.000003   0.090000  3.828246e-07  1.363973e-07  0.999995   \n",
      "4    0.000005  0.000003   0.090000  7.663401e-07  1.754361e-07  0.999990   \n",
      "..        ...       ...        ...           ...           ...       ...   \n",
      "78   0.002565  0.000840  26.922000  8.260559e-01  2.551858e-03  0.013360   \n",
      "79   0.000388  0.000080  27.191000  9.793701e-01  2.941680e-04  0.004204   \n",
      "80   0.010119  0.001231  27.460000  1.363739e-01  1.554392e-03  0.580136   \n",
      "81   0.014113  0.002284  27.698333  2.059150e-02  4.462819e-03  0.162251   \n",
      "82   0.000419  0.000072  27.936667  1.006323e-03  2.118366e-04  0.996592   \n",
      "\n",
      "                                            text  \n",
      "0                                              -  \n",
      "1                                           - In  \n",
      "2                               - In today&#39;s  \n",
      "3                        - In today&#39;s video,  \n",
      "4                      - In today&#39;s video, I  \n",
      "..                                           ...  \n",
      "78  work on?&quot; Now there&#39;s a lot of ways  \n",
      "79  on?&quot; Now there&#39;s a lot of ways that  \n",
      "80        Now there&#39;s a lot of ways that you  \n",
      "81        there&#39;s a lot of ways that you can  \n",
      "82           a lot of ways that you can actually  \n",
      "\n",
      "[83 rows x 12 columns]\n"
     ]
    }
   ],
   "source": [
    "def get_scores(row):\n",
    "    \n",
    "    # format the query\n",
    "    data = {'text' : row['text']}\n",
    "    res = requests.post(RASA_API, data = json.dumps(data)).json()\n",
    "\n",
    "    # get the results from all intents\n",
    "    for intent in res['intent_ranking']:\n",
    "        name = intent['name']\n",
    "        # ignore this default intent\n",
    "        if name == 'nlu_fallback':\n",
    "            continue\n",
    "        # get the numerical confidence score\n",
    "        conf = intent['confidence']\n",
    "        row[name] = conf \n",
    "        \n",
    "    return row\n",
    "\n",
    "scored = windowed.apply(get_scores, axis=1)\n",
    "#get a list of added columns from the results (so that changes to the training intents are automatically picked up)\n",
    "score_columns = list(set(scored) - set(windowed.columns)) \n",
    "scored.reset_index(inplace=True)\n",
    "# inspect the results\n",
    "print (scored)"
   ]
  },
  {
   "cell_type": "markdown",
   "id": "6a00f3aa",
   "metadata": {},
   "source": [
    "## Step 4 - some basic results"
   ]
  },
  {
   "cell_type": "markdown",
   "id": "030e567a",
   "metadata": {},
   "source": [
    "### plot all scores as a function of time"
   ]
  },
  {
   "cell_type": "code",
   "execution_count": 12,
   "id": "edf3fb36",
   "metadata": {},
   "outputs": [
    {
     "data": {
      "text/plain": [
       "<AxesSubplot:xlabel='start'>"
      ]
     },
     "execution_count": 12,
     "metadata": {},
     "output_type": "execute_result"
    },
    {
     "data": {
      "image/png": "[encoded data removed]",
      "text/plain": [
       "<Figure size 432x288 with 1 Axes>"
      ]
     },
     "metadata": {
      "needs_background": "light"
     },
     "output_type": "display_data"
    }
   ],
   "source": [
    "scored_plt = scored.set_index('start')\n",
    "scored_plt.drop(columns=['window_number', 'end'], inplace=True)\n",
    "scored_plt.plot()"
   ]
  },
  {
   "cell_type": "markdown",
   "id": "6b74b9bc",
   "metadata": {},
   "source": [
    "### Determine the intent that gives the maximum score as a function of time\n",
    "We want to get the maximum value and the intent (argmax)"
   ]
  },
  {
   "cell_type": "code",
   "execution_count": 13,
   "id": "f70c6488",
   "metadata": {
    "scrolled": true
   },
   "outputs": [
    {
     "name": "stdout",
     "output_type": "stream",
     "text": [
      "        start        end       type     score\n",
      "0    0.090000   0.255714      greet  0.553532\n",
      "1    0.090000   0.421429      tease  0.790609\n",
      "2    0.090000   0.587143      tease  0.999981\n",
      "3    0.090000   0.752857      tease  0.999995\n",
      "4    0.090000   0.918571      tease  0.999990\n",
      "..        ...        ...        ...       ...\n",
      "78  26.922000  28.890000  subscribe  0.826056\n",
      "79  27.191000  29.128333  subscribe  0.979370\n",
      "80  27.460000  29.366667      tease  0.580136\n",
      "81  27.698333  29.605000      greet  0.636358\n",
      "82  27.936667  29.843333      tease  0.996592\n",
      "\n",
      "[83 rows x 4 columns]\n"
     ]
    }
   ],
   "source": [
    "scored_tomax = scored.set_index(['start', 'end'])\n",
    "\n",
    "# Get the column name that corresponds to the max\n",
    "df_argmax = scored_tomax[score_columns].idxmax(axis=1)\n",
    "# Get the max values\n",
    "df_max = scored_tomax[score_columns].max(axis=1)\n",
    "\n",
    "# combine into a single dataframe\n",
    "df_comb = pd.concat([df_argmax, df_max], axis=1)\n",
    "df_comb.columns=['type', 'score']\n",
    "\n",
    "df_comb.reset_index(inplace=True)\n",
    "\n",
    "#inspect the results\n",
    "print (df_comb)\n"
   ]
  },
  {
   "cell_type": "markdown",
   "id": "31cb57d1",
   "metadata": {},
   "source": [
    "### Plot the results\n",
    "First do some work to get the proper framing and colors, then use fill_between to make the figure"
   ]
  },
  {
   "cell_type": "code",
   "execution_count": 14,
   "id": "e788cecf",
   "metadata": {},
   "outputs": [
    {
     "data": {
      "image/png": "[encoded data removed]",
      "text/plain": [
       "<Figure size 432x288 with 1 Axes>"
      ]
     },
     "metadata": {
      "needs_background": "light"
     },
     "output_type": "display_data"
    }
   ],
   "source": [
    "# Use a shift to get a non-overlapping interval\n",
    "df_comb['prev_end'] = df_comb['end'].shift(1)\n",
    "df_comb.loc[pd.isnull(df_comb.prev_end), 'prev_end'] = min(df_comb['start'])\n",
    "\n",
    "# get a color cycler and determine the color for each type.\n",
    "# this is mainly for convenience so that we cannot exceed the \n",
    "# size of our color list, but it can result in duplicate colors\n",
    "color_cycle = cycler.cycler(color=['red', 'green', 'blue', 'orange', 'magenta', 'cyan', 'lightgreen'])\n",
    "all_types = list(set(df_comb['type']))\n",
    "type_colors = {tp : col['color'] for tp, col in zip(all_types, color_cycle)}\n",
    "\n",
    "\n",
    "_, ax = plt.subplots()\n",
    "\n",
    "# Fill the figure for each row up to the score value\n",
    "for ir, row in df_comb.iterrows():\n",
    "    tp = row['type']\n",
    "    ax.fill_between([row['prev_end'], row['end']], 0, row['score'], facecolor=type_colors[tp], label=tp)\n",
    "\n",
    "plt.xlabel('Time [s]')\n",
    "plt.ylabel('Max score')\n",
    "plt.title('Maximum score by dialogue type')\n",
    "\n",
    "# since its a non-standard plot, we need to create \n",
    "# the legend manually\n",
    "custom_lines = []\n",
    "for tp, col in type_colors.items():\n",
    "    custom_lines.append(Line2D([0], [0], color=col, lw=6, alpha=0.6))\n",
    "ax.legend(custom_lines, type_colors.keys())\n",
    "plt.show()\n"
   ]
  },
  {
   "cell_type": "markdown",
   "id": "22e1ed8f",
   "metadata": {},
   "source": [
    "## We now have an abstracted script for this video, which can be further used for data science and easliy scaled to many videos"
   ]
  }
 ],
 "metadata": {
  "kernelspec": {
   "display_name": "Python 3",
   "language": "python",
   "name": "python3"
  },
  "language_info": {
   "codemirror_mode": {
    "name": "ipython",
    "version": 3
   },
   "file_extension": ".py",
   "mimetype": "text/x-python",
   "name": "python",
   "nbconvert_exporter": "python",
   "pygments_lexer": "ipython3",
   "version": "3.8.0"
  }
 },
 "nbformat": 4,
 "nbformat_minor": 5
}
